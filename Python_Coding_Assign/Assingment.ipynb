{
 "cells": [
  {
   "cell_type": "markdown",
   "metadata": {},
   "source": [
    "# Assignment: Find who tweeted the most\n"
   ]
  },
  {
   "cell_type": "markdown",
   "metadata": {},
   "source": [
    "You will be given a list of tweets\n",
    "Your program should find the user who has tweeted the most\n"
   ]
  },
  {
   "cell_type": "markdown",
   "metadata": {},
   "source": [
    "### If multiple users are having same number of tweets, then print all the users in alphabetical order of user names"
   ]
  },
  {
   "cell_type": "markdown",
   "metadata": {},
   "source": [
    "#### Input format:\n",
    "Read the input from console.\n",
    "First line of input should be number of test cases\n",
    "Remaining lines of input should contain each test case input. "
   ]
  },
  {
   "cell_type": "markdown",
   "metadata": {},
   "source": [
    "#### For each test case input:\n",
    "First line should contain number of tweets.\n",
    "Followed by N lines, each containing user name and tweet id separated by a space.\n"
   ]
  },
  {
   "cell_type": "markdown",
   "metadata": {},
   "source": [
    "### Output format:\n",
    "Find the user with max number of tweets. Print user name and total number of tweets.\n"
   ]
  },
  {
   "cell_type": "markdown",
   "metadata": {},
   "source": [
    "###Sample 1:\n",
    "Input \n",
    "4\n",
    "sachin tweet_id_1\n",
    "sehwag tweet_id_2\n",
    "sachin tweet_id_3\n",
    "sachin tweet_id_4\n",
    "\n",
    "Output\n",
    "sachin 3\n"
   ]
  },
  {
   "cell_type": "code",
   "execution_count": 11,
   "metadata": {},
   "outputs": [
    {
     "name": "stdout",
     "output_type": "stream",
     "text": [
      "1\n"
     ]
    }
   ],
   "source": [
    "test_cases=int(input())\n"
   ]
  },
  {
   "cell_type": "code",
   "execution_count": 12,
   "metadata": {},
   "outputs": [],
   "source": [
    "list1=[]\n",
    "count=0\n"
   ]
  },
  {
   "cell_type": "code",
   "execution_count": 13,
   "metadata": {},
   "outputs": [
    {
     "name": "stdout",
     "output_type": "stream",
     "text": [
      "3\n",
      "enter the values of each twitter user by space sepratedsachin twit_1\n",
      "enter the values of each twitter user by space sepratedsehwag twit_2\n",
      "enter the values of each twitter user by space sepratedsachin twit_3\n"
     ]
    }
   ],
   "source": [
    "while count<test_cases:\n",
    "    inside_test_cases=int(input())\n",
    "    test_count=0\n",
    "    while test_count<inside_test_cases:\n",
    "        n=str(input(\"enter the values of each twitter user by space seprated\"))\n",
    "        list1.append(n)\n",
    "        test_count+=1\n",
    "    count+=1\n",
    "    \n",
    "    "
   ]
  },
  {
   "cell_type": "code",
   "execution_count": 15,
   "metadata": {},
   "outputs": [],
   "source": [
    "uniq_names = [pref_names.split()[0] for pref_names in list1]"
   ]
  },
  {
   "cell_type": "code",
   "execution_count": 35,
   "metadata": {},
   "outputs": [],
   "source": [
    "freq={i:uniq_names.count(i) for i in set(uniq_names)}"
   ]
  },
  {
   "cell_type": "code",
   "execution_count": 41,
   "metadata": {},
   "outputs": [
    {
     "name": "stdout",
     "output_type": "stream",
     "text": [
      "1 list i is \n",
      "4 list i is \n",
      "2 list i is \n",
      "1 list i is \n",
      "dict i is 1\n",
      " d of i is 2\n",
      "2 list i is \n",
      "dict i is 2\n",
      " d of i is 2\n",
      "6 list i is \n",
      "8 list i is \n",
      "2 list i is \n",
      "dict i is 2\n",
      " d of i is 3\n",
      "2 list i is \n",
      "dict i is 2\n",
      " d of i is 4\n",
      "{1: 2, 4: 1, 2: 4, 6: 1, 8: 1}\n"
     ]
    }
   ],
   "source": []
  },
  {
   "cell_type": "code",
   "execution_count": null,
   "metadata": {},
   "outputs": [],
   "source": []
  },
  {
   "cell_type": "code",
   "execution_count": null,
   "metadata": {},
   "outputs": [],
   "source": []
  }
 ],
 "metadata": {
  "kernelspec": {
   "display_name": "Python 3",
   "language": "python",
   "name": "python3"
  },
  "language_info": {
   "codemirror_mode": {
    "name": "ipython",
    "version": 3
   },
   "file_extension": ".py",
   "mimetype": "text/x-python",
   "name": "python",
   "nbconvert_exporter": "python",
   "pygments_lexer": "ipython3",
   "version": "3.7.3"
  }
 },
 "nbformat": 4,
 "nbformat_minor": 2
}
